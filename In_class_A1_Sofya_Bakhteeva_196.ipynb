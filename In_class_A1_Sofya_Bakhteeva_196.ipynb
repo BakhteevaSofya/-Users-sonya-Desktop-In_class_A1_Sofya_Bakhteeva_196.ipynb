{
 "cells": [
  {
   "cell_type": "markdown",
   "metadata": {},
   "source": [
    "# <center> In-class Assignment 1 </center>"
   ]
  },
  {
   "cell_type": "markdown",
   "metadata": {},
   "source": [
    "**Task 1. Word game** \n",
    "\n",
    "You need to write a program for a word game. \n",
    "The first player think about a word and save it using input() function and only lowercase latters.\n",
    "\n",
    "The second player provides new words in the same format. In total, the user needs to make 15 moves (name 15 new words after the first word). Each new word must start with the same letter as the first word. If the word has already been called earlier (is duplicated) or the first letter of a new word is not the same as the first letter of the first word, the game ends with the phrase \"The rules of the game are violated.\""
   ]
  },
  {
   "cell_type": "code",
   "execution_count": 10,
   "metadata": {},
   "outputs": [
    {
     "name": "stdout",
     "output_type": "stream",
     "text": [
      "Name a word:hi\n",
      "Next word starting from the same letter: hello\n",
      "Next word starting from the same letter: helza\n",
      "Next word starting from the same letter: mom\n",
      "The rules of the game are violated.\n"
     ]
    }
   ],
   "source": [
    "# The first player comes up with a word\n",
    "word = input('Name a word:')\n",
    "\n",
    "# Second player names other new words\n",
    "# new_word = input('Next word starting from the same letter: ')\n",
    "# YOUR CODE HERE\n",
    "words = {}\n",
    "words[word] = 1\n",
    "for i in range(15):\n",
    "    new_word = input('Next word starting from the same letter: ')\n",
    "    if(word[0] != new_word[0] or new_word in words):\n",
    "        print (\"The rules of the game are violated.\")\n",
    "        break\n",
    "    else:\n",
    "        word = new_word\n",
    "        words[word] = 1"
   ]
  },
  {
   "cell_type": "markdown",
   "metadata": {},
   "source": [
    "**Task 2. String preprocessing**.\n",
    "\n",
    "1. This is a downloaded paragraph from the main page of the United Nations website. Remove all symbols for new lines (\"\\n\"). Transform a list of all sentences into one text (= one string). \n",
    "\n",
    "2. Create a dictionary, where the keys are the words and the values are the numbers how many times each word occured in a given paragraph). What is the most frequent word in this paragraph?\n",
    "\n",
    "For instance: \n",
    "```python\n",
    ">>> your_dict['freedom']\n",
    "Out: 2\n",
    ">>>your_dict['human']\n",
    "Out: 4\n",
    "```"
   ]
  },
  {
   "cell_type": "code",
   "execution_count": 4,
   "metadata": {},
   "outputs": [],
   "source": [
    "paragraph = [\"What Are Human Rights? Human rights are rights inherent to all human \\n\", \n",
    "\"beings, regardless of race, sex, nationality, ethnicity, language, religion, or \\n\",\n",
    "\"any other status. Human rights include the right to life and liberty, freedom \\n\",\n",
    "\"from slavery and torture, freedom of opinion and expression, the right to work \\n\",\n",
    "\"and education, and many more.\", \"  Everyone is entitled to these rights, without \",\n",
    "\"discrimination. \\nInternational human rights law lays down the obligations of Governments to act in \\n\",\n",
    "\"certain ways or to refrain from certain acts, in order to promote and protect human \\n\",\n",
    "\"rights and fundamental freedoms of individuals or groups. \\n\",\n",
    "\"One of the great achievements of the United Nations is the creation of a comprehensive \\n\",\n",
    "\"body of human rights law — a universal and internationally protected code to which all \\n\",\n",
    "\"nations can subscribe and all people aspire. The United Nations has defined a broad range \\n\",\n",
    "\"of internationally accepted rights, including civil, cultural, economic, political and \\n\",\n",
    "\"social rights. It has also established mechanisms to promote and protect these rights \\n\",\n",
    "\"and to assist states in carrying out their responsibilities.\"]"
   ]
  },
  {
   "cell_type": "code",
   "execution_count": 11,
   "metadata": {},
   "outputs": [
    {
     "name": "stdout",
     "output_type": "stream",
     "text": [
      "What Are Human Rights? Human rights are rights inherent to all human beings, regardless of race, sex, nationality, ethnicity, language, religion, or any other status. Human rights include the right to life and liberty, freedom from slavery and torture, freedom of opinion and expression, the right to work and education, and many more.  Everyone is entitled to these rights, without discrimination. International human rights law lays down the obligations of Governments to act in certain ways or to refrain from certain acts, in order to promote and protect human rights and fundamental freedoms of individuals or groups. One of the great achievements of the United Nations is the creation of a comprehensive body of human rights law — a universal and internationally protected code to which all nations can subscribe and all people aspire. The United Nations has defined a broad range of internationally accepted rights, including civil, cultural, economic, political and social rights. It has also established mechanisms to promote and protect these rights and to assist states in carrying out their responsibilities.\n",
      "Most frequent word: and 12 times.\n"
     ]
    }
   ],
   "source": [
    "# YOUR CODE HERE\n",
    "for i in range(len(paragraph)):\n",
    "    paragraph[i] = paragraph[i].replace(\"\\n\", '')\n",
    "str_par = ''.join(paragraph) # string for 2.2\n",
    "one_string = str_par\n",
    "print (one_string)#one string for text\n",
    "str_par = str_par.lower()\n",
    "str_par = str_par.replace('-', '')\n",
    "str_par = str_par.replace(',', '')\n",
    "str_par = str_par.replace('.', '')\n",
    "str_par = str_par.replace('?', '')\n",
    "str_par = str_par.split(' ')\n",
    "frequency = dict()\n",
    "for word in str_par:\n",
    "    count = frequency.get(word,0)\n",
    "    frequency[word] = count + 1\n",
    "frequency.pop(\"\", None)\n",
    "frequency.pop('', None)\n",
    "maximum = -1\n",
    "freq_w = \"\"\n",
    "for w,c in frequency.items():\n",
    "    if(c > maximum):\n",
    "        maximum = c\n",
    "        freq_w = w\n",
    "print (\"Most frequent word:\", freq_w, maximum, \"times.\")#all word in lower case\n",
    "        \n",
    "\n"
   ]
  },
  {
   "cell_type": "markdown",
   "metadata": {},
   "source": [
    "**Task 3. G7 Summit** \n",
    "\n",
    "You are on the organizing committee of the G7 summit. You need to check in all the participants of the summit in a hotel with double rooms, guided by the rule: ```participants can live in one room if they are delegates from the same country.``` <br>\n",
    "\n",
    "You have been given a dictionary with information on all participants. \n",
    "\n",
    "Write a function that returns ```True```, if it is possible to check in $X$ participants ($X$ is the number of participants) in $\\frac{X}{2}$ rooms without violating the rule and ```False``` otherwise.\n",
    "\n",
    "```Input:```"
   ]
  },
  {
   "cell_type": "code",
   "execution_count": 2,
   "metadata": {},
   "outputs": [],
   "source": [
    "participants = {\n",
    "    'John Smith' : {'sex': 'Male', 'country': 'The United Kingdom'},\n",
    "    'Michael Phillips' : {'sex': 'Male', 'country': 'The United Kingdom'},\n",
    "    'Miranda Muller' : {'sex': 'Female', 'country': 'Germany'},\n",
    "    'Anna Schmidt' : {'sex': 'Female', 'country': 'Germany'},\n",
    "    'Giovanni Rossi' : {'sex': 'Male', 'country': 'Italy'},\n",
    "    'Giulia Colombo' : {'sex': 'Female', 'country': 'Italy'},\n",
    "    'Bob Williams' : {'sex': 'Male', 'country': 'Canada'},\n",
    "    'Sarah Harper' : {'sex': 'Female', 'country': 'Canada'},\n",
    "    'John Brown' : {'sex': 'Male', 'country': 'Canada'},\n",
    "    'Maria Davis' : {'sex': 'Female', 'country': 'Canada'},\n",
    "    'Lucas Martin' : {'sex': 'Male', 'country': 'France'},\n",
    "    'Louis Bernard' : {'sex': 'Male', 'country': 'France'},\n",
    "    'Minato Takahashi' : {'sex': 'Male', 'country': 'Japan'},\n",
    "    'Ren Suzuki' : {'sex': 'Male', 'country': 'Japan'},\n",
    "    'Paul Miller' : {'sex': 'Male', 'country': 'USA'},\n",
    "    'Andrew Scott' : {'sex': 'Male', 'country': 'USA'}\n",
    "}"
   ]
  },
  {
   "cell_type": "markdown",
   "metadata": {},
   "source": [
    "```Output```: ```True``` (because there is even number of participants from each country). "
   ]
  },
  {
   "cell_type": "markdown",
   "metadata": {},
   "source": [
    "```Hint:``` Note that the values in a dictionary are also the dictionaries. If you want to access to the value of a particular delegate:\n",
    "\n",
    "```python\n",
    ">>> participants['Ren Suzuki']['country']\n",
    "Out: Japan\n",
    "```"
   ]
  },
  {
   "cell_type": "code",
   "execution_count": 1,
   "metadata": {},
   "outputs": [],
   "source": [
    "def check_in(participants):\n",
    "    # YOUR CODE HERE\n",
    "    country_d = dict()\n",
    "    for i in participants.values():\n",
    "        country = i['country']\n",
    "        count_c = country_d.get(country, 0)\n",
    "        country_d[country] = count_c + 1\n",
    "    even = True\n",
    "    for i in country_d.values():\n",
    "        if(i % 2 != 0):\n",
    "            even = False\n",
    "    return (even)"
   ]
  },
  {
   "cell_type": "code",
   "execution_count": 3,
   "metadata": {},
   "outputs": [
    {
     "data": {
      "text/plain": [
       "True"
      ]
     },
     "execution_count": 3,
     "metadata": {},
     "output_type": "execute_result"
    }
   ],
   "source": [
    "check_in(participants)"
   ]
  }
 ],
 "metadata": {
  "kernelspec": {
   "display_name": "Python 3",
   "language": "python",
   "name": "python3"
  },
  "language_info": {
   "codemirror_mode": {
    "name": "ipython",
    "version": 3
   },
   "file_extension": ".py",
   "mimetype": "text/x-python",
   "name": "python",
   "nbconvert_exporter": "python",
   "pygments_lexer": "ipython3",
   "version": "3.8.5"
  }
 },
 "nbformat": 4,
 "nbformat_minor": 2
}
